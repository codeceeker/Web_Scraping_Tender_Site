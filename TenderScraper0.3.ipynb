{
 "cells": [
  {
   "cell_type": "code",
   "execution_count": 2,
   "metadata": {
    "collapsed": true,
    "pycharm": {
     "name": "#%%\n"
    }
   },
   "outputs": [],
   "source": [
    "import requests\n",
    "from bs4 import BeautifulSoup\n",
    "import html5lib\n",
    "from lxml import html\n"
   ]
  },
  {
   "cell_type": "markdown",
   "source": [
    "#### There are two ways of fetching the site.\n",
    "#### First you can either get it by requests. though it does not have javascript capability. Therefore, it only gets firsts table.\n",
    "#### Second visit the site , Expand All and click on Show entries drop down increase it to 25 or higher."
   ],
   "metadata": {
    "collapsed": false,
    "pycharm": {
     "name": "#%% md\n"
    }
   }
  },
  {
   "cell_type": "code",
   "execution_count": 3,
   "outputs": [],
   "source": [
    "# Download site. Place it in local directories and run command python3 -m http.server 8080\n",
    "# Visit site in browser. Run the following cells. (File used it given in directories - named tender.html\n",
    "site = requests.get('http://localhost:8080/tender.html')\n",
    "\n",
    "tree = html.fromstring(site.content)"
   ],
   "metadata": {
    "collapsed": false,
    "pycharm": {
     "name": "#%%\n"
    }
   }
  },
  {
   "cell_type": "code",
   "execution_count": 6,
   "outputs": [],
   "source": [
    "soup = BeautifulSoup(site.text,'lxml')"
   ],
   "metadata": {
    "collapsed": false,
    "pycharm": {
     "name": "#%%\n"
    }
   }
  },
  {
   "cell_type": "code",
   "execution_count": 7,
   "outputs": [
    {
     "data": {
      "text/plain": "[<Element body at 0x18bc4054540>]"
     },
     "execution_count": 7,
     "metadata": {},
     "output_type": "execute_result"
    }
   ],
   "source": [
    "# xpath could be used to traverse the DOM tree easily.\n",
    "[tr for tr in tree.xpath(\"/html/body\")]"
   ],
   "metadata": {
    "collapsed": false,
    "pycharm": {
     "name": "#%%\n"
    }
   }
  },
  {
   "cell_type": "code",
   "execution_count": 8,
   "outputs": [
    {
     "name": "stdout",
     "output_type": "stream",
     "text": [
      "[b'<td>TD 12/12/04/2022, TD 13/04/2022, TD 14/04/2022</td>', b'<td>MWP1317DIS</td>', b'<td>MWP1318DIS</td>', b'<td>NRF/SARAO SDP/06/2022-23</td>', b'<td>ALMT23/2021</td>', b'<td>ALMT24/2021</td>', b'<td>ALMT25/2021</td>', b'<td>INF/12975/04/2022</td>', b'<td>ELM-3/031/2021-2022</td>', b'<td>MPKUS10220GX</td>', b'<td>ARMD/2021/15</td>', b'<td>INF/12982/04/2022</td>', b'<td>HES-TECH 09/2122</td>', b'<td>HES-TECH 26/2122</td>', b'<td>HES-TECH 01/2223</td>', b'<td>SACAA/CHPC/00003/2022-2023</td>', b'<td>SACAA/HOA/00004/2022-2023</td>', b'<td>2453G</td>', b'<td>FIN005 of 2022</td>', b'<td>FIN005 of 2022</td>', b'<td>ZNQ00770/00000/00/HOD/GEN/22T</td>', b'<td>ZNQ00770/00000/00/HOD/GEN/22T</td>', b'<td>NCEDA01/2022</td>', b'<td>2445G</td>', b'<td>CIA6763/2021/RFP</td>']\n"
     ]
    }
   ],
   "source": [
    "from lxml import etree\n",
    "\n",
    "tender_no = [etree.tostring(tr) for tr in tree.xpath(\"/html/body/div[3]/main/div[3]/table/tbody/tr/td/table/tbody/tr[1]/td[2]\")]\n",
    "\n",
    "print(tender_no)"
   ],
   "metadata": {
    "collapsed": false,
    "pycharm": {
     "name": "#%%\n"
    }
   }
  },
  {
   "cell_type": "code",
   "execution_count": 9,
   "outputs": [
    {
     "name": "stdout",
     "output_type": "stream",
     "text": [
      "b'<td>CIA6763/2021/RFP</td>'\n"
     ]
    }
   ],
   "source": [
    "for tr in tree.xpath(\"/html/body/div[3]/main/div[3]/table/tbody/tr/td/table/tbody/tr[1]/td[2]\"):\n",
    "    dic = etree.tostring(tr).strip()\n",
    "\n",
    "print(dic)"
   ],
   "metadata": {
    "collapsed": false,
    "pycharm": {
     "name": "#%%\n"
    }
   }
  },
  {
   "cell_type": "code",
   "execution_count": 10,
   "outputs": [
    {
     "name": "stdout",
     "output_type": "stream",
     "text": [
      "[b'<td>Oudtshoorn Municipality</td>', b'<td>ESKOM</td>', b'<td>ESKOM</td>', b'<td>National Research Foundation</td>', b'<td>Chief Albert Luthuli Municipality</td>', b'<td>Chief Albert Luthuli Municipality</td>', b'<td>Chief Albert Luthuli Municipality</td>', b'<td>Agricultural Research Council</td>', b'<td>Elundini Local Municipality</td>', b'<td>ESKOM</td>', b'<td>ARMSCOR</td>', b'<td>Agricultural Research Council</td>', b'<td>Hessequa Municipality</td>', b'<td>Hessequa Municipality</td>', b'<td>Hessequa Municipality</td>', b'<td>South African Civil Aviation Authority</td>', b'<td>South African Civil Aviation Authority</td>', b'<td>City Power &#8211; Johannesburg</td>', b'<td>George Municipality</td>', b'<td>George Municipality</td>', b'<td>Kwazulu Natal - Transport</td>', b'<td>Kwazulu Natal - Transport</td>', b'<td>Northern Cape - Economic Development, Trade and Investment Promotion Agency</td>', b'<td>City Power &#8211; Johannesburg</td>', b'<td>Airports Company of South Africa Limited</td>']\n"
     ]
    }
   ],
   "source": [
    "org_name = [etree.tostring(tr) for tr in tree.xpath(\"/html/body/div[3]/main/div[3]/table/tbody/tr/td/table/tbody/tr[2]/td[2]\")]\n",
    "\n",
    "print(org_name)"
   ],
   "metadata": {
    "collapsed": false,
    "pycharm": {
     "name": "#%%\n"
    }
   }
  },
  {
   "cell_type": "code",
   "execution_count": 11,
   "outputs": [
    {
     "name": "stdout",
     "output_type": "stream",
     "text": [
      "[b'<td>Request for Bid(Open-Tender)</td>', b'<td>Request for Proposal</td>', b'<td>Request for Proposal</td>', b'<td>Request for Proposal</td>', b'<td>Request for Bid(Open-Tender)</td>', b'<td>Request for Bid(Open-Tender)</td>', b'<td>Request for Bid(Open-Tender)</td>', b'<td>Request for Quotation</td>', b'<td>Request for Bid(Open-Tender)</td>', b'<td>Request for Information</td>', b'<td>Request for Bid(Open-Tender)</td>', b'<td>Request for Quotation</td>', b'<td>Request for Proposal</td>', b'<td>Request for Proposal</td>', b'<td>Request for Proposal</td>', b'<td>Request for Bid(Open-Tender)</td>', b'<td>Request for Bid(Open-Tender)</td>', b'<td>Request for Bid(Open-Tender)</td>', b'<td>Request for Bid(Open-Tender)</td>', b'<td>Request for Bid(Open-Tender)</td>', b'<td>Request for Quotation</td>', b'<td>Request for Quotation</td>', b'<td>Request for Bid(Open-Tender)</td>', b'<td>Request for Bid(Open-Tender)</td>', b'<td>Request for Bid(Open-Tender)</td>']\n"
     ]
    }
   ],
   "source": [
    "tender_type = [etree.tostring(tr) for tr in tree.xpath(\"/html/body/div[3]/main/div[3]/table/tbody/tr/td/table/tbody/tr[3]/td[2]\")]\n",
    "\n",
    "print(tender_type)"
   ],
   "metadata": {
    "collapsed": false,
    "pycharm": {
     "name": "#%%\n"
    }
   }
  },
  {
   "cell_type": "code",
   "execution_count": 12,
   "outputs": [
    {
     "name": "stdout",
     "output_type": "stream",
     "text": [
      "[b'<td>Thursday, 21 April 2022</td>', b'<td>Thursday, 21 April 2022</td>', b'<td>Thursday, 21 April 2022</td>', b'<td>Thursday, 21 April 2022</td>', b'<td>Thursday, 21 April 2022</td>', b'<td>Thursday, 21 April 2022</td>', b'<td>Thursday, 21 April 2022</td>', b'<td>Thursday, 21 April 2022</td>', b'<td>Thursday, 21 April 2022</td>', b'<td>Thursday, 21 April 2022</td>', b'<td>Thursday, 21 April 2022</td>', b'<td>Thursday, 21 April 2022</td>', b'<td>Thursday, 21 April 2022</td>', b'<td>Thursday, 21 April 2022</td>', b'<td>Thursday, 21 April 2022</td>', b'<td>Thursday, 21 April 2022</td>', b'<td>Thursday, 21 April 2022</td>', b'<td>Thursday, 21 April 2022</td>', b'<td>Thursday, 21 April 2022</td>', b'<td>Thursday, 21 April 2022</td>', b'<td>Thursday, 21 April 2022</td>', b'<td>Thursday, 21 April 2022</td>', b'<td>Thursday, 21 April 2022</td>', b'<td>Thursday, 21 April 2022</td>', b'<td>Thursday, 21 April 2022</td>']\n"
     ]
    }
   ],
   "source": [
    "pub_date = [etree.tostring(tr) for tr in tree.xpath(\"/html/body/div[3]/main/div[3]/table/tbody/tr/td/table/tbody/tr[6]/td[2]\")]\n",
    "\n",
    "print(pub_date)"
   ],
   "metadata": {
    "collapsed": false,
    "pycharm": {
     "name": "#%%\n"
    }
   }
  },
  {
   "cell_type": "code",
   "execution_count": 13,
   "outputs": [
    {
     "name": "stdout",
     "output_type": "stream",
     "text": [
      "[b'<td>Monday, 09 May 2022 - 12:00</td>', b'<td>Wednesday, 11 May 2022 - 10:00</td>', b'<td>Wednesday, 11 May 2022 - 10:00</td>', b'<td>Friday, 20 May 2022 - 11:00</td>', b'<td>Friday, 20 May 2022 - 12:00</td>', b'<td>Friday, 20 May 2022 - 12:00</td>', b'<td>Friday, 20 May 2022 - 12:00</td>', b'<td>Monday, 25 April 2022 - 11:00</td>', b'<td>Friday, 20 May 2022 - 12:00</td>', b'<td>Monday, 16 May 2022 - 10:00</td>', b'<td>Thursday, 19 May 2022 - 11:00</td>', b'<td>Monday, 25 April 2022 - 11:00</td>', b'<td>Friday, 27 May 2022 - 12:00</td>', b'<td>Friday, 27 May 2022 - 12:00</td>', b'<td>Friday, 27 May 2022 - 12:00</td>', b'<td>Monday, 16 May 2022 - 11:00</td>', b'<td>Monday, 16 May 2022 - 11:00</td>', b'<td>Friday, 27 May 2022 - 11:00</td>', b'<td>Monday, 30 May 2022 - 12:00</td>', b'<td>Monday, 30 May 2022 - 12:00</td>', b'<td>Friday, 29 April 2022 - 11:00</td>', b'<td>Friday, 29 April 2022 - 11:00</td>', b'<td>Monday, 23 May 2022 - 11:00</td>', b'<td>Wednesday, 25 May 2022 - 11:00</td>', b'<td>Monday, 23 May 2022 - 12:00</td>']\n"
     ]
    }
   ],
   "source": [
    "deadline = [etree.tostring(tr) for tr in tree.xpath(\"/html/body/div[3]/main/div[3]/table/tbody/tr/td/table/tbody/tr[7]/td[2]\")]\n",
    "\n",
    "print(deadline)"
   ],
   "metadata": {
    "collapsed": false,
    "pycharm": {
     "name": "#%%\n"
    }
   }
  },
  {
   "cell_type": "code",
   "execution_count": 16,
   "outputs": [
    {
     "name": "stdout",
     "output_type": "stream",
     "text": [
      "[b'<td>C. DUPLESSIS</td>', b'<td>Adelle Fourie</td>', b'<td>Robert Smit</td>', b'<td>Thomas Bennett </td>', b'<td>Mr. GT Mnisi</td>', b'<td>Mr. Marcus Manyelo </td>', b'<td>Mr. GT Mnisi</td>', b'<td>Zimkhita Matayi</td>', b'<td>Mr Mzolisi Zwakala</td>', b'<td>Romeo Mokwena</td>', b'<td>Ms Mampho Sigidi</td>', b'<td>Zimkhita Matayi</td>', b'<td>Leanne Windvogel</td>', b'<td>Leanne Windvogel</td>', b'<td>Leanne Windvogel</td>', b'<td>Mr Sambeso Mbande</td>', b'<td>Mr Sambeso Mbande</td>', b'<td>BETHEYA NTINI</td>', b'<td>Mr. Gerard Goliath</td>', b'<td>Mr. Gerard Goliath</td>', b'<td>Marinana Gous</td>', b'<td>Marinana Gous</td>', b'<td>Owen Coetzee</td>', b'<td>TLANGELANI MAPIYEYE</td>', b'<td>Mochaki Monyela</td>']\n"
     ]
    }
   ],
   "source": [
    "contact_name = [etree.tostring(tr) for tr in tree.xpath(\"/html/body/div[3]/main/div[3]/table/tbody/tr/td/table/tbody/tr[11]/td[2]\")]\n",
    "\n",
    "print(contact_name)"
   ],
   "metadata": {
    "collapsed": false,
    "pycharm": {
     "name": "#%%\n"
    }
   }
  },
  {
   "cell_type": "code",
   "execution_count": 18,
   "outputs": [
    {
     "name": "stdout",
     "output_type": "stream",
     "text": [
      "[b'<td>cduplessis@oudtmun.gov.za</td>', b'<td>tenderoffice@eskom.co.za</td>', b'<td>tenderoffice@eskom.co.za</td>', b'<td>thomas@sarao.ac.za</td>', b'<td>mnisig@albertluthuli.gov.za</td>', b'<td>marcus@albertluthuli.gov.za</td>', b'<td>mnisig@albertluthuli.gov.za</td>', b'<td>MatayiZ@arc.agric.za</td>', b'<td>mzolisiz@elundini.gov.za</td>', b'<td>MokwenRJ@eskom.co.za</td>', b'<td>MamphoL@armscordy.co.za</td>', b'<td>MatayiZ@arc.agric.za</td>', b'<td>leanne@hessequa.gov.za</td>', b'<td>leanne@hessequa.gov.za</td>', b'<td>leanne@hessequa.gov.za</td>', b'<td>mbandes@caa.co.za</td>', b'<td>mbandes@caa.co.za</td>', b'<td>bntini@citypower.o.za</td>', b'<td>gegoliath@george.gov.za</td>', b'<td>gegoliath@george.gov.za</td>', b'<td>mariana.gous@kzntransport.gov.za</td>', b'<td>mariana.gous@kzntransport.gov.za</td>', b'<td>ocoetzee@nceda.co.za</td>', b'<td>tmapiyeye@citypower.co.za</td>', b'<td>mochaki.monyela@airports.co.za</td>']\n"
     ]
    }
   ],
   "source": [
    "contact_email = [etree.tostring(tr) for tr in tree.xpath(\"/html/body/div[3]/main/div[3]/table/tbody/tr/td/table/tbody/tr[12]/td[2]\")]\n",
    "\n",
    "print(contact_email)"
   ],
   "metadata": {
    "collapsed": false,
    "pycharm": {
     "name": "#%%\n"
    }
   }
  },
  {
   "cell_type": "code",
   "execution_count": 20,
   "outputs": [
    {
     "name": "stdout",
     "output_type": "stream",
     "text": [
      "[b'<td>044-203-3172</td>', b'<td>013-693-2887</td>', b'<td>013-693-3339</td>', b'<td>021-506-7300</td>', b'<td>017-843-4000</td>', b'<td>017-843-4000</td>', b'<td>017-843-4000</td>', b'<td>021-809-3093</td>', b'<td>045-932-8220</td>', b'<td>013-699-7369</td>', b'<td>021-787-3454</td>', b'<td>021-809-3093</td>', b'<td>028-713-8087</td>', b'<td>028-713-8087</td>', b'<td>028-713-8087</td>', b'<td>011-545-1020</td>', b'<td>011-545-1020</td>', b'<td>011-490-7455</td>', b'<td>044-801-9036</td>', b'<td>044-801-9036</td>', b'<td>033-394-0202</td>', b'<td>033-394-0202</td>', b'<td>072-492-8326</td>', b'<td>011-490-7733</td>', b'<td>064-177-6644</td>']\n"
     ]
    }
   ],
   "source": [
    "contact_number = [etree.tostring(tr) for tr in tree.xpath(\"/html/body/div[3]/main/div[3]/table/tbody/tr/td/table/tbody/tr[13]/td[2]\")]\n",
    "\n",
    "print(contact_number)"
   ],
   "metadata": {
    "collapsed": false,
    "pycharm": {
     "name": "#%%\n"
    }
   }
  },
  {
   "cell_type": "code",
   "execution_count": 22,
   "outputs": [
    {
     "name": "stdout",
     "output_type": "stream",
     "text": [
      "[b'<a href=\"https://www.etenders.gov.za/home/Download/?blobName=f0e2ee4a-786a-4695-a0e4-be717977963c.pdf&amp;downloadedFileName=Tender%20advert%203%20in%201.pdf\">Tender advert 3 in 1.pdf</a>', b'<a href=\"https://www.etenders.gov.za/home/Download/?blobName=b1946520-c945-4dae-91a8-8282e9dfb721.pdf&amp;downloadedFileName=Investment%20Recovery%20Offer%20To%20Purchase%20Form%20MWP1317DIS%20%203x%20Various%20Residential%20Properties%20Volksrust%20Mpumalanga.pdf\">Investment Recovery Offer To Purchase Form MWP1317DIS  3x Various Residential Properties Volksrust Mpumalanga.pdf</a>', b'<a href=\"https://www.etenders.gov.za/home/Download/?blobName=521290e6-4398-44f0-85ba-86cd791013d2.pdf&amp;downloadedFileName=Investment%20Recovery%20Offer%20To%20Purchase%20Form%20MWP1318DIS%207x%20Various%20Residential%20Poperties%20Lephalale%20Limpopo.pdf\">Investment Recovery Offer To Purchase Form MWP1318DIS 7x Various Residential Poperties Lephalale Limpopo.pdf</a>', b'<a href=\"https://www.etenders.gov.za/home/Download/?blobName=12ac1e40-17c9-40ab-b5d0-d60f6ad192d9.pdf&amp;downloadedFileName=Bid%20Document%20-%20Final.pdf\">Bid Document - Final.pdf</a>', b'<a href=\"https://www.etenders.gov.za/home/Download/?blobName=f37c09be-8695-4c5b-9505-ea798dac2837.pdf&amp;downloadedFileName=Bid%20Advert.pdf\">Bid Advert.pdf</a>', b'<a href=\"https://www.etenders.gov.za/home/Download/?blobName=752168cd-e28e-471b-8cdb-7f51fecea26c.pdf&amp;downloadedFileName=Tender%20Advert%204.pdf\">Tender Advert 4.pdf</a>', b'<a href=\"https://www.etenders.gov.za/home/Download/?blobName=47aa0850-4a68-4c41-a702-31b8bc07a52a.pdf&amp;downloadedFileName=Tender%20Advert%204.pdf\">Tender Advert 4.pdf</a>', b'<a href=\"https://www.etenders.gov.za/home/Download/?blobName=8e56ebcc-2705-4cd8-b8bf-f2f74b88e2a4.pdf&amp;downloadedFileName=Tender%20Advert%204.pdf\">Tender Advert 4.pdf</a>', b'<a href=\"https://www.etenders.gov.za/home/Download/?blobName=e39a1298-1b02-45d7-a1d5-2183ae552638.docx&amp;downloadedFileName=SBD%20SPECS%20GRAPEVINE%20LEAFROLL%20TEST.docx\">SBD SPECS GRAPEVINE LEAFROLL TEST.docx</a>', b'<a href=\"https://www.etenders.gov.za/home/Download/?blobName=74d304c7-8a78-4d7f-b697-30dd7819c364.doc&amp;downloadedFileName=SBD-4.doc\">SBD-4.doc</a>', b'<a href=\"https://www.etenders.gov.za/home/Download/?blobName=12c9b891-fdae-47b3-b86c-8b82283e6b80.doc&amp;downloadedFileName=SBD-9.doc\">SBD-9.doc</a>', b'<a href=\"https://www.etenders.gov.za/home/Download/?blobName=2aea144d-9897-4d6e-9fc5-9b24d55d8da6.doc&amp;downloadedFileName=SBD-8.doc\">SBD-8.doc</a>', b'<a href=\"https://www.etenders.gov.za/home/Download/?blobName=4879112c-5170-4722-8778-ea4347555474.pdf&amp;downloadedFileName=Smart%20Meters%20Advert%20and%20Specification.pdf\">Smart Meters Advert and Specification.pdf</a>', b'<a href=\"https://www.etenders.gov.za/home/Download/?blobName=a5548755-0e5b-49d6-adeb-b23cb31ca887.pdf&amp;downloadedFileName=REQUEST%20FOR%20INFORMATION.pdf\">REQUEST FOR INFORMATION.pdf</a>', b'<a href=\"https://www.etenders.gov.za/home/Download/?blobName=64496e74-25ec-4246-978a-c6a0d762a050.pdf&amp;downloadedFileName=Advertised%20bid%20document_Industrial%20waste%20(2022).pdf\">Advertised bid document_Industrial waste (2022).pdf</a>', b'<a href=\"https://www.etenders.gov.za/home/Download/?blobName=514e461a-a381-4a93-95ce-0a5fe7af1b0e.docx&amp;downloadedFileName=SBD%20SPECS%20GENERATOR%20BATTERIES.docx\">SBD SPECS GENERATOR BATTERIES.docx</a>', b'<a href=\"https://www.etenders.gov.za/home/Download/?blobName=f96ac9e6-759a-4341-99c7-6bab9ce74e4a.doc&amp;downloadedFileName=SBD-8.doc\">SBD-8.doc</a>', b'<a href=\"https://www.etenders.gov.za/home/Download/?blobName=af03659d-2ff7-4687-96e3-a9f7d9acf2c6.doc&amp;downloadedFileName=SBD-4.doc\">SBD-4.doc</a>', b'<a href=\"https://www.etenders.gov.za/home/Download/?blobName=3447a5ac-1508-4f22-9230-c589369d996a.doc&amp;downloadedFileName=SBD-9.doc\">SBD-9.doc</a>', b'<a href=\"https://www.etenders.gov.za/home/Download/?blobName=e6adb06e-8156-42c1-b064-348250f40024.pdf&amp;downloadedFileName=FUNTIONALITY.pdf\">FUNTIONALITY.pdf</a>', b'<a href=\"https://www.etenders.gov.za/home/Download/?blobName=952786d1-1e6b-4ed0-84f5-3600b4e8f6bc.pdf&amp;downloadedFileName=BILL%20OF%20QUANTITIES.pdf\">BILL OF QUANTITIES.pdf</a>', b'<a href=\"https://www.etenders.gov.za/home/Download/?blobName=3d42d992-5df9-4e6a-9a82-486332cfcd87.pdf&amp;downloadedFileName=SCOPE%20OF%20WORKS.pdf\">SCOPE OF WORKS.pdf</a>', b'<a href=\"https://www.etenders.gov.za/home/Download/?blobName=df184974-939a-4591-aeb9-84052bb6be34.pdf&amp;downloadedFileName=HES-TECH%2009-2122%20APPOINTMENT%20OF%20AD-HOC%20CIVIL%20ENGINEERING%20CONTRACTORS.pdf\">HES-TECH 09-2122 APPOINTMENT OF AD-HOC CIVIL ENGINEERING CONTRACTORS.pdf</a>', b'<a href=\"https://www.etenders.gov.za/home/Download/?blobName=b73cd352-6de2-47f7-8149-312854927d06.pdf&amp;downloadedFileName=BILL%20OF%20QUANTITIES.pdf\">BILL OF QUANTITIES.pdf</a>', b'<a href=\"https://www.etenders.gov.za/home/Download/?blobName=749edd02-fada-4035-b658-5516e603d059.pdf&amp;downloadedFileName=HES-TECH%2026-2122%20MAINTENANCE%20AND%20INSTALLATION.pdf\">HES-TECH 26-2122 MAINTENANCE AND INSTALLATION.pdf</a>', b'<a href=\"https://www.etenders.gov.za/home/Download/?blobName=6d259652-916e-4913-bb7b-cb2251e7c0dd.pdf&amp;downloadedFileName=FUNCTIONALITY.pdf\">FUNCTIONALITY.pdf</a>', b'<a href=\"https://www.etenders.gov.za/home/Download/?blobName=aa7cc355-a267-4138-a288-f64e5a68d681.pdf&amp;downloadedFileName=SCOPE%20OF%20WORKS.pdf\">SCOPE OF WORKS.pdf</a>', b'<a href=\"https://www.etenders.gov.za/home/Download/?blobName=61518cab-6aec-49c2-876a-4ad8fb4350c2.pdf&amp;downloadedFileName=SCOPE%20OF%20WORKS.pdf\">SCOPE OF WORKS.pdf</a>', b'<a href=\"https://www.etenders.gov.za/home/Download/?blobName=2529ad2b-9707-4d45-ab29-8508f38e35e3.pdf&amp;downloadedFileName=FUNCTIONALITY.pdf\">FUNCTIONALITY.pdf</a>', b'<a href=\"https://www.etenders.gov.za/home/Download/?blobName=3548afc5-dc42-4dc7-8f66-baeb1ad49d8e.pdf&amp;downloadedFileName=PRICING%20SCHEDULE.pdf\">PRICING SCHEDULE.pdf</a>', b'<a href=\"https://www.etenders.gov.za/home/Download/?blobName=3a16e343-4bb8-4c4a-bc1a-ca81c7eeb882.pdf&amp;downloadedFileName=HES-TECH%2001-2223%20CONSTRUCTION%20HEALTH%20&amp;%20SAFETY%20SERVICES.pdf\">HES-TECH 01-2223 CONSTRUCTION HEALTH &amp; SAFETY SERVICES.pdf</a>', b'<a href=\"https://www.etenders.gov.za/home/Download/?blobName=a5fe6607-b49d-4bd9-bc6f-f34821ac2633.pdf&amp;downloadedFileName=Bid%20Document%20Cleaning,Hygiene%20and%20Pest%20Control%20Services%20-%2021%20April%202022.pdf\">Bid Document Cleaning,Hygiene and Pest Control Services - 21 April 2022.pdf</a>', b'<a href=\"https://www.etenders.gov.za/home/Download/?blobName=856bceeb-a92d-4c32-bfa7-181026ea39e7.pdf&amp;downloadedFileName=Bid%20Document%20SACAA%20HEAD%20OFFICE%20ACCOMMODATION%20%20-%2021%20April%202022.pdf\">Bid Document SACAA HEAD OFFICE ACCOMMODATION  - 21 April 2022.pdf</a>', b'<a href=\"https://www.etenders.gov.za/home/Download/?blobName=43146d4a-4975-456c-9560-23a0cd5b3139.pdf&amp;downloadedFileName=CP_TSSPEC_069_REV4_%20Master%20padlocks_cylinder%20locks%20and%20keys.pdf\">CP_TSSPEC_069_REV4_ Master padlocks_cylinder locks and keys.pdf</a>', b'<a href=\"https://www.etenders.gov.za/home/Download/?blobName=df5b408e-bf16-44d7-8839-4e46a9dbb169.doc&amp;downloadedFileName=BID%20ADVERT%20FOR%20MASTER%20PADLOCK%20,%20KEYS%20AND%20CYLINDER%20LOCKS.doc\">BID ADVERT FOR MASTER PADLOCK , KEYS AND CYLINDER LOCKS.doc</a>', b'<a href=\"https://www.etenders.gov.za/home/Download/?blobName=cf4c1709-b0bf-4db7-b5ab-736f9b956c43.pdf&amp;downloadedFileName=CP_TSSPEC_069(PadlocksCylinder%20Locks%20%20Keys)-210813.pdf\">CP_TSSPEC_069(PadlocksCylinder Locks  Keys)-210813.pdf</a>', b'<a href=\"https://www.etenders.gov.za/home/Download/?blobName=c4687f5a-542c-4575-9b9d-a1085a2bb1da.pdf&amp;downloadedFileName=CP_TSSPEC_069(PadlocksCylinder%20Locks%20%20Keys)-210813%20(2).pdf\">CP_TSSPEC_069(PadlocksCylinder Locks  Keys)-210813 (2).pdf</a>', b'<a href=\"https://www.etenders.gov.za/home/Download/?blobName=3dddc2cd-eb1b-4845-8129-c2d8defb7514.docx&amp;downloadedFileName=TENDER%20DOCUMENT%20FOR%20BID%202453G%20SUPPLY%20AND%20DELIVERY%20OF%20MASTER%20PADLOCKS,%20KEYS%20AND%20CYLINDER%20LOCKS.docx\">TENDER DOCUMENT FOR BID 2453G SUPPLY AND DELIVERY OF MASTER PADLOCKS, KEYS AND CYLINDER LOCKS.docx</a>', b'<a href=\"https://www.etenders.gov.za/home/Download/?blobName=2781473c-4846-49d6-92a8-560f2cddbe54.pdf&amp;downloadedFileName=FIN005%20of%202022%20ADVERT.pdf\">FIN005 of 2022 ADVERT.pdf</a>', b'<a href=\"https://www.etenders.gov.za/home/Download/?blobName=2935cee9-82ad-4e9c-adb3-f9c2a0fa2c78.pdf&amp;downloadedFileName=FIN005%20of%202022%20ADVERT.pdf\">FIN005 of 2022 ADVERT.pdf</a>', b'<a href=\"https://www.etenders.gov.za/home/Download/?blobName=8af53667-e2e2-4ddf-929e-3a00cceb26a8.pdf&amp;downloadedFileName=ZNQ00770-00000-00-HOD-GEN-22-T%20-%20Replenish%20Stock%20Items%20(Stationery)%20for%20TTC2.pdf\">ZNQ00770-00000-00-HOD-GEN-22-T - Replenish Stock Items (Stationery) for TTC2.pdf</a>', b'<a href=\"https://www.etenders.gov.za/home/Download/?blobName=e451350e-f35e-4bbd-b18d-74b2c990e0a6.pdf&amp;downloadedFileName=ZNQ00770-00000-00-HOD-GEN-22-T%20-%20Replenish%20Stock%20Items%20(Stationery)%20for%20TTC2.pdf\">ZNQ00770-00000-00-HOD-GEN-22-T - Replenish Stock Items (Stationery) for TTC2.pdf</a>', b'<a href=\"https://www.etenders.gov.za/home/Download/?blobName=4b4f4df0-0284-4ad5-af06-acd39d5f3999.pdf&amp;downloadedFileName=Expression%20of%20Interest%20-%20NCEDA012022.pdf\">Expression of Interest - NCEDA012022.pdf</a>', b'<a href=\"https://www.etenders.gov.za/home/Download/?blobName=f7b115c6-f349-413c-9fe1-24e26e4c2355.pdf&amp;downloadedFileName=SPECIFICATIONS%20FOR%20DAIRY%20PRODUCTS.pdf\">SPECIFICATIONS FOR DAIRY PRODUCTS.pdf</a>', b'<a href=\"https://www.etenders.gov.za/home/Download/?blobName=d75e2298-bf3e-4bd4-b0bd-29da182378ba.docx&amp;downloadedFileName=BID%20-%202445G%20-%20Canteen%20Groceries.docx\">BID - 2445G - Canteen Groceries.docx</a>', b'<a href=\"https://www.etenders.gov.za/home/Download/?blobName=3757d63f-ab46-4a8b-b0e7-408fae05120f.doc&amp;downloadedFileName=Bid%20Advert%202445G%20(003).doc\">Bid Advert 2445G (003).doc</a>', b'<a href=\"https://www.etenders.gov.za/home/Download/?blobName=0ffa24ea-85ca-460e-8431-58fc42d3d2cf.pdf&amp;downloadedFileName=Local-Content-Annexures.pdf\">Local-Content-Annexures.pdf</a>', b'<a href=\"https://www.etenders.gov.za/home/Download/?blobName=160dff30-17b7-4366-a82e-7eb541659637.pdf&amp;downloadedFileName=SPECIFICATION%20FOR%20FRUITS,%20VEGETABLES%20AND%20PROCESSED%20VEGETABLES.pdf\">SPECIFICATION FOR FRUITS, VEGETABLES AND PROCESSED VEGETABLES.pdf</a>', b'<a href=\"https://www.etenders.gov.za/home/Download/?blobName=d32c4d79-7e5f-4790-9459-c30ca2beff0b.pdf&amp;downloadedFileName=SPECIFICATION%20FOR%20DRY%20GROCERIES.pdf\">SPECIFICATION FOR DRY GROCERIES.pdf</a>', b'<a href=\"https://www.etenders.gov.za/home/Download/?blobName=3a46d9f5-cb6a-4f8d-81d4-f7b544bd2ed7.pdf&amp;downloadedFileName=SPECIFICATION%20FOR%20GRADE%20(A)%20MEAT%20PRODUCTS.pdf\">SPECIFICATION FOR GRADE (A) MEAT PRODUCTS.pdf</a>', b'<a href=\"https://www.etenders.gov.za/home/Download/?blobName=87237bce-1f04-4023-ba9a-5475bf1e704c.pdf&amp;downloadedFileName=BID%20DOCUMENT%20_Repairs%20and%20Maintenance%20of%20Roller%20Shutter%20Doors%20at%20Cape%20Town%20International%20Airport%20(002).pdf\">BID DOCUMENT _Repairs and Maintenance of Roller Shutter Doors at Cape Town International Airport (002).pdf</a>']\n"
     ]
    }
   ],
   "source": [
    "tender_link = [etree.tostring(tr) for tr in tree.xpath(\"/html/body/div[3]/main/div[3]/table/tbody/tr/td/table/tbody/tr[19]/td/a\")]\n",
    "\n",
    "print(tender_link)"
   ],
   "metadata": {
    "collapsed": false,
    "pycharm": {
     "name": "#%%\n"
    }
   }
  }
 ],
 "metadata": {
  "kernelspec": {
   "display_name": "Python 3",
   "language": "python",
   "name": "python3"
  },
  "language_info": {
   "codemirror_mode": {
    "name": "ipython",
    "version": 2
   },
   "file_extension": ".py",
   "mimetype": "text/x-python",
   "name": "python",
   "nbconvert_exporter": "python",
   "pygments_lexer": "ipython2",
   "version": "2.7.6"
  }
 },
 "nbformat": 4,
 "nbformat_minor": 0
}
